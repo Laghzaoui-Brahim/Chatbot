{
 "cells": [
  {
   "cell_type": "code",
   "execution_count": 1,
   "metadata": {},
   "outputs": [
    {
     "name": "stderr",
     "output_type": "stream",
     "text": [
      "c:\\Users\\Brahim Laghzaoui\\anaconda3\\lib\\site-packages\\scipy\\__init__.py:146: UserWarning: A NumPy version >=1.16.5 and <1.23.0 is required for this version of SciPy (detected version 1.23.1\n",
      "  warnings.warn(f\"A NumPy version >={np_minversion} and <{np_maxversion}\"\n"
     ]
    }
   ],
   "source": [
    "import nltk\n",
    "from nltk.stem import WordNetLemmatizer\n",
    "import pickle\n",
    "import numpy as np\n",
    "from keras.models import load_model\n",
    "from tkinter import *\n",
    "import json\n",
    "import random\n",
    "import DataV2 as st"
   ]
  },
  {
   "cell_type": "code",
   "execution_count": 2,
   "metadata": {},
   "outputs": [],
   "source": [
    "lemmatizer = WordNetLemmatizer()\n",
    "modell = load_model('chatbot_model.h5')\n",
    "intents = json.loads(open('data.json').read())\n",
    "words = pickle.load(open('words.pkl', 'rb'))\n",
    "classes = pickle.load(open('classes.pkl', 'rb'))\n",
    "\n",
    "\n",
    "def clean_up_sentence(sentence):\n",
    "    # tokenize the pattern - split wrds into array\n",
    "    sentence_words = nltk.word_tokenize(sentence)\n",
    "    # stem each word - create short form for word\n",
    "    sentence_words = [lemmatizer.lemmatize(word.lower()) for word in sentence_words]\n",
    "    return sentence_words\n",
    "\n",
    "# return bag of wrds array: 0 or 1 for each word in the bag that exists in the sentence\n",
    "\n",
    "def bow(sentence, wrds, show_details=True):\n",
    "    # tokenize the pattern\n",
    "    sentence_words = clean_up_sentence(sentence)\n",
    "    # bag of wrds - matrix of N wrds, vocabulary matrix\n",
    "    bag = [0] * len(wrds)\n",
    "    for s in sentence_words:\n",
    "        for i, w in enumerate(wrds):\n",
    "            if w == s:\n",
    "                # assign 1 if current word is in the vocabulary position\n",
    "                bag[i] = 1\n",
    "                if show_details:\n",
    "                    print(\"found in bag: %s\" % w)\n",
    "    return np.array(bag)\n",
    "\n",
    "def predict_class(sentence, modelll):\n",
    "    # filter out predictions below a threshold\n",
    "    p = bow(sentence, words, show_details=False)\n",
    "    print(p.shape)\n",
    "    res = modelll.predict(np.array([p]))[0]\n",
    "    ERROR_THRESHOLD = 0.25\n",
    "    results = [[i, r] for i, r in enumerate(res) if r > ERROR_THRESHOLD]\n",
    "    # sort by strength of probability\n",
    "    results.sort(key=lambda x: x[1], reverse=True)\n",
    "    return_list = []\n",
    "    for r in results:\n",
    "        return_list.append({\"intent\": classes[r[0]], \"probability\": str(r[1])})\n",
    "    return return_list\n",
    "\n",
    "\n",
    "def get_response(ints, intents_json,msg):\n",
    "    tag = ints[0]['intent']\n",
    "    list_of_intents = intents_json['intents']\n",
    "    for i in list_of_intents:\n",
    "        if i['tag'] == tag:\n",
    "            w = nltk.word_tokenize(msg)\n",
    "            ner = nltk.pos_tag(w)\n",
    "            num = 0\n",
    "            for n in ner :\n",
    "                if(n[1] == 'CD'):\n",
    "                    num = n[0]\n",
    "            if(tag == 'Status' and num == 0) :\n",
    "                result = \"give me the num type\"\n",
    "            if num != 0 :\n",
    "                if len(num) > 1 :\n",
    "                    result = st.main(num)\n",
    "                if len(num) == 1 :\n",
    "                    result = st.getLinkActivitie(int(num))\n",
    "            else :\n",
    "                result = random.choice(i['responses'])\n",
    "            break\n",
    "    return result\n",
    "\n",
    "\n",
    "\n",
    "def chatbot_response(msg):\n",
    "    ints = predict_class(msg, modell)\n",
    "    res = get_response(ints, intents,msg)\n",
    "    return str(res)\n"
   ]
  },
  {
   "cell_type": "code",
   "execution_count": 13,
   "metadata": {},
   "outputs": [
    {
     "name": "stdout",
     "output_type": "stream",
     "text": [
      " * Serving Flask app \"__main__\" (lazy loading)\n",
      " * Environment: production\n",
      "\u001b[31m   WARNING: This is a development server. Do not use it in a production deployment.\u001b[0m\n",
      "\u001b[2m   Use a production WSGI server instead.\u001b[0m\n",
      " * Debug mode: off\n"
     ]
    },
    {
     "name": "stderr",
     "output_type": "stream",
     "text": [
      " * Running on http://127.0.0.1:5000/ (Press CTRL+C to quit)\n",
      "127.0.0.1 - - [02/Sep/2022 15:50:48] \"GET / HTTP/1.1\" 200 -\n",
      "127.0.0.1 - - [02/Sep/2022 15:50:48] \"GET /static/css/chat.css HTTP/1.1\" 200 -\n",
      "127.0.0.1 - - [02/Sep/2022 15:50:48] \"GET /static/lib/animate/animate.min.css HTTP/1.1\" 200 -\n",
      "127.0.0.1 - - [02/Sep/2022 15:50:48] \"GET /static/lib/owlcarousel/assets/owl.carousel.min.css HTTP/1.1\" 200 -\n",
      "127.0.0.1 - - [02/Sep/2022 15:50:48] \"GET /static/lib/lightbox/css/lightbox.min.css HTTP/1.1\" 200 -\n",
      "127.0.0.1 - - [02/Sep/2022 15:50:48] \"GET /static/css/style.css HTTP/1.1\" 200 -\n",
      "127.0.0.1 - - [02/Sep/2022 15:50:48] \"GET /static/css/bootstrap.min.css HTTP/1.1\" 200 -\n",
      "127.0.0.1 - - [02/Sep/2022 15:50:48] \"GET /static/img/insights.png HTTP/1.1\" 200 -\n",
      "127.0.0.1 - - [02/Sep/2022 15:50:48] \"GET /static/img/hero.png HTTP/1.1\" 200 -\n",
      "127.0.0.1 - - [02/Sep/2022 15:50:48] \"GET /static/img/intelligent.png HTTP/1.1\" 200 -\n",
      "127.0.0.1 - - [02/Sep/2022 15:50:48] \"GET /static/img/career.png HTTP/1.1\" 200 -\n",
      "127.0.0.1 - - [02/Sep/2022 15:50:48] \"GET /static/img/about.png HTTP/1.1\" 200 -\n",
      "127.0.0.1 - - [02/Sep/2022 15:50:48] \"GET /static/img/1.jpg HTTP/1.1\" 200 -\n",
      "127.0.0.1 - - [02/Sep/2022 15:50:48] \"GET /static/img/2.jpg HTTP/1.1\" 200 -\n",
      "127.0.0.1 - - [02/Sep/2022 15:50:48] \"GET /static/img/3.png HTTP/1.1\" 200 -\n",
      "127.0.0.1 - - [02/Sep/2022 15:50:48] \"GET /static/img/4.jpg HTTP/1.1\" 200 -\n",
      "127.0.0.1 - - [02/Sep/2022 15:50:48] \"GET /static/img/chatbox-icon.svg HTTP/1.1\" 200 -\n",
      "127.0.0.1 - - [02/Sep/2022 15:50:48] \"GET /static/js/app.js HTTP/1.1\" 200 -\n",
      "127.0.0.1 - - [02/Sep/2022 15:50:48] \"GET /static/lib/wow/wow.min.js HTTP/1.1\" 200 -\n",
      "127.0.0.1 - - [02/Sep/2022 15:50:48] \"GET /static/lib/easing/easing.min.js HTTP/1.1\" 200 -\n",
      "127.0.0.1 - - [02/Sep/2022 15:50:48] \"GET /static/lib/owlcarousel/owl.carousel.min.js HTTP/1.1\" 200 -\n",
      "127.0.0.1 - - [02/Sep/2022 15:50:48] \"GET /static/lib/waypoints/waypoints.min.js HTTP/1.1\" 200 -\n",
      "127.0.0.1 - - [02/Sep/2022 15:50:48] \"GET /static/lib/counterup/counterup.min.js HTTP/1.1\" 200 -\n",
      "127.0.0.1 - - [02/Sep/2022 15:50:48] \"GET /static/lib/isotope/isotope.pkgd.min.js HTTP/1.1\" 200 -\n",
      "127.0.0.1 - - [02/Sep/2022 15:50:48] \"GET /static/lib/lightbox/js/lightbox.min.js HTTP/1.1\" 200 -\n",
      "127.0.0.1 - - [02/Sep/2022 15:50:48] \"GET /static/js/main.js HTTP/1.1\" 200 -\n",
      "127.0.0.1 - - [02/Sep/2022 15:50:55] \"GET /static/img/blob-top-left.png HTTP/1.1\" 200 -\n",
      "127.0.0.1 - - [02/Sep/2022 15:50:55] \"GET /static/img/blob-top-right.png HTTP/1.1\" 200 -\n",
      "127.0.0.1 - - [02/Sep/2022 15:50:55] \"GET /static/img/blob-bottom-left.png HTTP/1.1\" 200 -\n",
      "127.0.0.1 - - [02/Sep/2022 15:50:55] \"GET /static/img/blob-bottom-right.png HTTP/1.1\" 200 -\n",
      "127.0.0.1 - - [02/Sep/2022 15:50:55] \"GET /static/img/blob-center.png HTTP/1.1\" 200 -\n",
      "127.0.0.1 - - [02/Sep/2022 15:50:55] \"GET /static/img/bg-bottom.png HTTP/1.1\" 200 -\n",
      "127.0.0.1 - - [02/Sep/2022 15:50:55] \"GET /static/img/blob-primary.png HTTP/1.1\" 200 -\n",
      "127.0.0.1 - - [02/Sep/2022 15:50:55] \"GET /static/img/map.png HTTP/1.1\" 200 -\n",
      "127.0.0.1 - - [02/Sep/2022 15:50:55] \"GET /static/img/bg-top.png HTTP/1.1\" 200 -\n",
      "127.0.0.1 - - [02/Sep/2022 15:50:55] \"GET /static/lib/lightbox/images/prev.png HTTP/1.1\" 200 -\n",
      "127.0.0.1 - - [02/Sep/2022 15:50:55] \"GET /static/lib/lightbox/images/next.png HTTP/1.1\" 200 -\n",
      "127.0.0.1 - - [02/Sep/2022 15:50:55] \"GET /static/lib/lightbox/images/loading.gif HTTP/1.1\" 200 -\n",
      "127.0.0.1 - - [02/Sep/2022 15:50:55] \"GET /static/lib/lightbox/images/close.png HTTP/1.1\" 200 -\n",
      "127.0.0.1 - - [02/Sep/2022 15:50:56] \"GET /static/img/icon.png HTTP/1.1\" 200 -\n",
      "127.0.0.1 - - [02/Sep/2022 15:51:00] \"GET /static/lib/lightbox/js/lightbox.min.map HTTP/1.1\" 404 -\n"
     ]
    }
   ],
   "source": [
    "from flask import Flask, render_template, request, jsonify\n",
    "app = Flask(__name__)\n",
    "app.static_folder = 'static'\n",
    "\n",
    "@app.route(\"/\")\n",
    "def home():\n",
    "    return render_template(\"index.html\")\n",
    "\n",
    "@app.route(\"/get\",methods=['POST'])\n",
    "def get_bot_response():\n",
    "    userText = request.get_json().get('message')\n",
    "    reponse = chatbot_response(userText)\n",
    "    message = {\"answer\":reponse}\n",
    "    return jsonify(message)\n",
    "\n",
    "if __name__ == \"__main__\":\n",
    "    app.run()"
   ]
  }
 ],
 "metadata": {
  "kernelspec": {
   "display_name": "Python 3.9.12 ('base')",
   "language": "python",
   "name": "python3"
  },
  "language_info": {
   "codemirror_mode": {
    "name": "ipython",
    "version": 3
   },
   "file_extension": ".py",
   "mimetype": "text/x-python",
   "name": "python",
   "nbconvert_exporter": "python",
   "pygments_lexer": "ipython3",
   "version": "3.9.12"
  },
  "orig_nbformat": 4,
  "vscode": {
   "interpreter": {
    "hash": "6e92bdda8bd76b5e72ff99cf669a6ad814bc848c8c10021b0a4e22cf98cc0b0c"
   }
  }
 },
 "nbformat": 4,
 "nbformat_minor": 2
}
